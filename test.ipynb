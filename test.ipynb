{
 "cells": [
  {
   "cell_type": "code",
   "execution_count": 2,
   "metadata": {},
   "outputs": [
    {
     "name": "stdout",
     "output_type": "stream",
     "text": [
      "Weights loaded successfully from path: e:\\eKYC\\verification_models\\weights/vggface2_weights.pt\n",
      "====================================================\n"
     ]
    }
   ],
   "source": [
    "from face_verification import *\n",
    "from verification_models import VGGFace2, VGGFace\n",
    "\n",
    "device = torch.device('cuda' if torch.cuda.is_available() else 'cpu')\n",
    "\n",
    "detector_model = MTCNN(device = device)\n",
    "# face2 = VGGFace2.load_model(device = device)\n",
    "face1 = VGGFace2.load_model(device = device)"
   ]
  },
  {
   "cell_type": "code",
   "execution_count": 3,
   "metadata": {},
   "outputs": [
    {
     "name": "stdout",
     "output_type": "stream",
     "text": [
      "tensor(0.6398, grad_fn=<SqrtBackward0>)\n",
      "tensor(0.5338, grad_fn=<SqrtBackward0>)\n",
      "tensor(0.4899, grad_fn=<SqrtBackward0>)\n"
     ]
    }
   ],
   "source": [
    "filename1 = \"images/trang2.jpg\"\n",
    "filename2 = \"images/trang.jpg\"\n",
    "filename3 = \"images/trang3.jpg\"\n",
    "\n",
    "image1 = get_image(filename1)\n",
    "image2 = get_image(filename2)\n",
    "image3 = get_image(filename3)\n",
    "\n",
    "results = verify(image1, image2, detector_model, face1)\n",
    "results = verify(image1, image3, detector_model, face1)\n",
    "results = verify(image3, image2, detector_model, face1)"
   ]
  },
  {
   "cell_type": "code",
   "execution_count": 6,
   "metadata": {},
   "outputs": [
    {
     "name": "stdout",
     "output_type": "stream",
     "text": [
      "tensor(0.6581, grad_fn=<SqrtBackward0>)\n",
      "tensor(0.4543, grad_fn=<SqrtBackward0>)\n",
      "tensor(0.5567, grad_fn=<SqrtBackward0>)\n"
     ]
    }
   ],
   "source": [
    "filename1 = \"images/thanh2.png\"\n",
    "filename2 = \"images/thanh4.jpg\"\n",
    "filename3 = \"images/thanh.jpg\"\n",
    "\n",
    "image1 = get_image(filename1)\n",
    "image2 = get_image(filename2)\n",
    "image3 = get_image(filename3)\n",
    "\n",
    "results = verify(image1, image2, detector_model, face1)\n",
    "results = verify(image1, image3, detector_model, face1)\n",
    "results = verify(image3, image2, detector_model, face1)\n",
    "\n"
   ]
  },
  {
   "cell_type": "code",
   "execution_count": 5,
   "metadata": {},
   "outputs": [
    {
     "name": "stdout",
     "output_type": "stream",
     "text": [
      "tensor(0.6615, grad_fn=<SqrtBackward0>)\n",
      "tensor(0.7814, grad_fn=<SqrtBackward0>)\n",
      "tensor(0.6853, grad_fn=<SqrtBackward0>)\n"
     ]
    }
   ],
   "source": [
    "filename1 = \"images/ngoc.jpg\"\n",
    "filename2 = \"images/ngoc2.jpg\"\n",
    "filename3 = \"images/ngoc5.jpg\"\n",
    "\n",
    "image2 = get_image(filename2)\n",
    "image1 = get_image(filename1)\n",
    "image3 = get_image(filename3)\n",
    "\n",
    "results = verify(image1, image2, detector_model, face1)\n",
    "results = verify(image1, image3, detector_model, face1)\n",
    "results = verify(image3, image2, detector_model, face1)"
   ]
  },
  {
   "cell_type": "code",
   "execution_count": 7,
   "metadata": {},
   "outputs": [
    {
     "name": "stdout",
     "output_type": "stream",
     "text": [
      "tensor(1.3654, grad_fn=<SqrtBackward0>)\n",
      "tensor(1.3401, grad_fn=<SqrtBackward0>)\n",
      "tensor(1.0616, grad_fn=<SqrtBackward0>)\n"
     ]
    }
   ],
   "source": [
    "filename1 = \"images/thanh.jpg\"\n",
    "filename2 = \"images/ngoc.jpg\"\n",
    "filename3 = 'images/trang.jpg'\n",
    "\n",
    "image2 = get_image(filename2)\n",
    "image1 = get_image(filename1)\n",
    "image3 = get_image(filename3)\n",
    "\n",
    "results = verify(image1, image2, detector_model, face1)\n",
    "results = verify(image1, image3, detector_model, face1)\n",
    "results = verify(image3, image2, detector_model, face1)\n"
   ]
  },
  {
   "cell_type": "code",
   "execution_count": 8,
   "metadata": {},
   "outputs": [
    {
     "name": "stdout",
     "output_type": "stream",
     "text": [
      "tensor(0.4909, grad_fn=<SqrtBackward0>)\n",
      "tensor(0.3815, grad_fn=<SqrtBackward0>)\n",
      "tensor(0.5467, grad_fn=<SqrtBackward0>)\n"
     ]
    }
   ],
   "source": [
    "filename1 = \"images/putin1.jpg\"\n",
    "filename2 = \"images/putin2.jpg\"\n",
    "filename3 = 'images/putin3.jpg'\n",
    "\n",
    "image2 = get_image(filename2)\n",
    "image1 = get_image(filename1)\n",
    "image3 = get_image(filename3)\n",
    "\n",
    "results = verify(image1, image2, detector_model, face1)\n",
    "results = verify(image1, image3, detector_model, face1)\n",
    "results = verify(image3, image2, detector_model, face1)\n"
   ]
  },
  {
   "cell_type": "code",
   "execution_count": 9,
   "metadata": {},
   "outputs": [
    {
     "name": "stdout",
     "output_type": "stream",
     "text": [
      "tensor(0.5381, grad_fn=<SqrtBackward0>)\n",
      "tensor(1.1346, grad_fn=<SqrtBackward0>)\n",
      "tensor(1.2178, grad_fn=<SqrtBackward0>)\n"
     ]
    }
   ],
   "source": [
    "filename1 = \"images/trump1.jpg\"\n",
    "filename2 = \"images/trump2.jpg\"\n",
    "filename3 = 'images/putin3.jpg'\n",
    "\n",
    "image2 = get_image(filename2)\n",
    "image1 = get_image(filename1)\n",
    "image3 = get_image(filename3)\n",
    "\n",
    "results = verify(image1, image2, detector_model, face1)\n",
    "results = verify(image1, image3, detector_model, face1)\n",
    "results = verify(image3, image2, detector_model, face1)\n",
    "    "
   ]
  },
  {
   "cell_type": "code",
   "execution_count": 13,
   "metadata": {},
   "outputs": [
    {
     "name": "stdout",
     "output_type": "stream",
     "text": [
      "1.5299009404763633\n",
      "1.568291666454993\n",
      "1.56957899289431\n"
     ]
    }
   ],
   "source": [
    "filename1 = \"images/thanh4.jpg\"\n",
    "filename2 = \"images/ngoc.jpg\"\n",
    "filename3 = 'images/putin3.jpg'\n",
    "\n",
    "image2 = get_image(filename2)\n",
    "image1 = get_image(filename1)\n",
    "image3 = get_image(filename3)\n",
    "\n",
    "results = verify(image1, image2, detector_model, face1)\n",
    "results = verify(image1, image3, detector_model, face1)\n",
    "results = verify(image3, image2, detector_model, face1)\n",
    "    "
   ]
  },
  {
   "cell_type": "code",
   "execution_count": 10,
   "metadata": {},
   "outputs": [
    {
     "name": "stdout",
     "output_type": "stream",
     "text": [
      "tensor(0.5936, grad_fn=<SqrtBackward0>)\n",
      "tensor(0.5426, grad_fn=<SqrtBackward0>)\n",
      "tensor(0.4371, grad_fn=<SqrtBackward0>)\n"
     ]
    }
   ],
   "source": [
    "filename1 = \"images/cmnd.jpg\"\n",
    "filename2 = \"images/cuong2.jpg\"\n",
    "filename3 = 'images/cuong.jpg'\n",
    "\n",
    "image2 = get_image(filename2)\n",
    "image1 = get_image(filename1)\n",
    "image3 = get_image(filename3)\n",
    "\n",
    "results = verify(image1, image2, detector_model, face1)\n",
    "results = verify(image1, image3, detector_model, face1)\n",
    "results = verify(image3, image2, detector_model, face1)\n",
    "    "
   ]
  },
  {
   "cell_type": "code",
   "execution_count": null,
   "metadata": {},
   "outputs": [],
   "source": []
  },
  {
   "cell_type": "code",
   "execution_count": 1,
   "metadata": {},
   "outputs": [
    {
     "name": "stderr",
     "output_type": "stream",
     "text": [
      "e:\\eKYC\\facenet\\models\\mtcnn.py:34: FutureWarning: You are using `torch.load` with `weights_only=False` (the current default value), which uses the default pickle module implicitly. It is possible to construct malicious pickle data which will execute arbitrary code during unpickling (See https://github.com/pytorch/pytorch/blob/main/SECURITY.md#untrusted-models for more details). In a future release, the default value for `weights_only` will be flipped to `True`. This limits the functions that could be executed during unpickling. Arbitrary objects will no longer be allowed to be loaded via this mode unless they are explicitly allowlisted by the user via `torch.serialization.add_safe_globals`. We recommend you start setting `weights_only=True` for any use case where you don't have full control of the loaded file. Please open an issue on GitHub for any issues related to this experimental feature.\n",
      "  state_dict = torch.load(state_dict_path)\n",
      "e:\\eKYC\\facenet\\models\\mtcnn.py:79: FutureWarning: You are using `torch.load` with `weights_only=False` (the current default value), which uses the default pickle module implicitly. It is possible to construct malicious pickle data which will execute arbitrary code during unpickling (See https://github.com/pytorch/pytorch/blob/main/SECURITY.md#untrusted-models for more details). In a future release, the default value for `weights_only` will be flipped to `True`. This limits the functions that could be executed during unpickling. Arbitrary objects will no longer be allowed to be loaded via this mode unless they are explicitly allowlisted by the user via `torch.serialization.add_safe_globals`. We recommend you start setting `weights_only=True` for any use case where you don't have full control of the loaded file. Please open an issue on GitHub for any issues related to this experimental feature.\n",
      "  state_dict = torch.load(state_dict_path)\n",
      "e:\\eKYC\\facenet\\models\\mtcnn.py:132: FutureWarning: You are using `torch.load` with `weights_only=False` (the current default value), which uses the default pickle module implicitly. It is possible to construct malicious pickle data which will execute arbitrary code during unpickling (See https://github.com/pytorch/pytorch/blob/main/SECURITY.md#untrusted-models for more details). In a future release, the default value for `weights_only` will be flipped to `True`. This limits the functions that could be executed during unpickling. Arbitrary objects will no longer be allowed to be loaded via this mode unless they are explicitly allowlisted by the user via `torch.serialization.add_safe_globals`. We recommend you start setting `weights_only=True` for any use case where you don't have full control of the loaded file. Please open an issue on GitHub for any issues related to this experimental feature.\n",
      "  state_dict = torch.load(state_dict_path)\n",
      "e:\\eKYC\\verification_models\\VGGFace2.py:295: FutureWarning: You are using `torch.load` with `weights_only=False` (the current default value), which uses the default pickle module implicitly. It is possible to construct malicious pickle data which will execute arbitrary code during unpickling (See https://github.com/pytorch/pytorch/blob/main/SECURITY.md#untrusted-models for more details). In a future release, the default value for `weights_only` will be flipped to `True`. This limits the functions that could be executed during unpickling. Arbitrary objects will no longer be allowed to be loaded via this mode unless they are explicitly allowlisted by the user via `torch.serialization.add_safe_globals`. We recommend you start setting `weights_only=True` for any use case where you don't have full control of the loaded file. Please open an issue on GitHub for any issues related to this experimental feature.\n",
      "  model.load_state_dict(torch.load(state_dict_path, map_location= 'cpu'))\n"
     ]
    },
    {
     "name": "stdout",
     "output_type": "stream",
     "text": [
      "Weights loaded successfully from path: e:\\eKYC\\verification_models\\weights/vggface2_weights.pt\n",
      "====================================================\n",
      "tensor(0.6581, grad_fn=<SqrtBackward0>)\n",
      "tensor(False)\n"
     ]
    }
   ],
   "source": [
    "import cv2 as cv\n",
    "import torch\n",
    "from PIL import Image\n",
    "\n",
    "from facenet.models.mtcnn import MTCNN\n",
    "from utils.distance import *\n",
    "from utils.functions import *\n",
    "from verification_models import VGGFace2\n",
    "\n",
    "\n",
    "def face_matching(face1, face2, model: torch.nn.Module, distance_metric_name, model_name, device = 'cpu'):\n",
    "    \"\"\"\n",
    "    Perform face matching to verify the similarity of two faces using a given distance metric and model.\n",
    "\n",
    "    Parameters:\n",
    "        face1: The first face image for comparison.\n",
    "        face2: The second face image for comparison.\n",
    "        model (torch.nn.Module): The face recognition model.\n",
    "        distance_metric_name: The name of the distance metric to be used ('cosine', 'L1', or 'euclidean').\n",
    "        model_name: The name of the face recognition model.\n",
    "        device (str, optional): The device on which the model should run (default is 'cpu').\n",
    "\n",
    "    Returns:\n",
    "        bool: True if the faces are considered a match, False otherwise.\n",
    "    \"\"\"\n",
    "    assert model_name == \"VGG-Face2\", f\"{model_name} is not supported\"\n",
    "    \n",
    "    distance_metric = {\n",
    "        \"cosine\": Cosine_Distance,\n",
    "        \"L1\": L1_Distance,\n",
    "        \"euclidean\": Euclidean_Distance,\n",
    "    }\n",
    "    \n",
    "    distance_func = distance_metric.get(distance_metric_name, Euclidean_Distance)\n",
    "    \n",
    "    device = model.device()\n",
    "    \n",
    "    face1 = face_transform(face1, model_name = model_name, device = device)\n",
    "    face2 = face_transform(face2, model_name = model_name, device = device)\n",
    "    \n",
    "    result1 = model(face1)\n",
    "    result2 = model(face2)\n",
    "    \n",
    "    # id1 = torch.argmax(result1, dim = 1)\n",
    "    # id2 = torch.argmax(result2, dim = 1)\n",
    "    \n",
    "    # # print(id1, id2)\n",
    "    \n",
    "    # return id1 == id2\n",
    "    dis = distance_func(result1, result2)\n",
    "    \n",
    "    threshold = findThreshold(model_name = model_name, distance_metric = distance_metric_name)\n",
    "    print(dis)\n",
    "    return dis < threshold\n",
    "\n",
    "def verify(img1: np.ndarray, img2: np.ndarray, detector_model: MTCNN, verifier_model, model_name = 'VGG-Face2'):\n",
    "    \"\"\"\n",
    "    Verify the similarity between two face images.\n",
    "\n",
    "    Parameters:\n",
    "        img1 (np.ndarray): A numpy RGB image containing the first face.\n",
    "        img2 (np.ndarray): A numpy RGB image containing the second face.\n",
    "        detector_model (MTCNN): The face detection model used to locate faces in the images.\n",
    "        verifier_model: The face verification model used for similarity comparison.\n",
    "        model_name (str, optional): The name of the verification model (default is 'VGG-Face2').\n",
    "\n",
    "    Returns:\n",
    "        bool: True if the faces are verified to be similar, False otherwise.\n",
    "    \"\"\"\n",
    "    \n",
    "    face1, box1, landmarks = extract_face(img1, detector_model, padding = 1)\n",
    "    face2, box2, landmarks = extract_face(img2, detector_model, padding = 1)\n",
    "    \n",
    "    verified = face_matching(face1, face2, verifier_model, distance_metric_name = 'euclidean', model_name = model_name)\n",
    "    \n",
    "    return verified \n",
    "\n",
    "    \n",
    "filename1 = \"images/thanh2.png\"\n",
    "filename2 = \"images/thanh4.jpg\"\n",
    "\n",
    "image1 = get_image(filename1)\n",
    "image2 = get_image(filename2)\n",
    "\n",
    "device = torch.device('cuda' if torch.cuda.is_available() else 'cpu')\n",
    "\n",
    "detector_model = MTCNN(device = device)\n",
    "verifier_model = VGGFace2.load_model(device = device)\n",
    "\n",
    "results = verify(image1, image2, detector_model, verifier_model)\n",
    "\n",
    "print(results)\n"
   ]
  },
  {
   "cell_type": "code",
   "execution_count": 15,
   "metadata": {},
   "outputs": [],
   "source": [
    "face1, box1, landmarks = extract_face(image1, detector_model)"
   ]
  },
  {
   "cell_type": "code",
   "execution_count": 17,
   "metadata": {},
   "outputs": [],
   "source": [
    "face1 = face_transform(face1, model_name = \"VGG-Face2\", device = device)"
   ]
  },
  {
   "cell_type": "code",
   "execution_count": 18,
   "metadata": {},
   "outputs": [
    {
     "data": {
      "text/plain": [
       "tensor([[[[-0.8242, -0.8086, -0.7930,  ..., -0.1914, -0.2617, -0.5898],\n",
       "          [-0.8555, -0.8477, -0.8555,  ..., -0.6133, -0.0352, -0.5508],\n",
       "          [-0.8242, -0.8242, -0.8164,  ..., -0.4570,  0.2461, -0.4570],\n",
       "          ...,\n",
       "          [-0.8711, -0.8867, -0.8867,  ..., -0.8867, -0.8945, -0.9023],\n",
       "          [-0.8711, -0.8711, -0.8945,  ..., -0.9023, -0.9023, -0.9023],\n",
       "          [-0.8789, -0.8789, -0.8789,  ..., -0.9180, -0.8945, -0.8867]],\n",
       "\n",
       "         [[-0.8242, -0.8086, -0.7930,  ..., -0.2070, -0.2852, -0.6133],\n",
       "          [-0.8555, -0.8477, -0.8555,  ..., -0.6289, -0.0586, -0.5742],\n",
       "          [-0.8242, -0.8242, -0.8164,  ..., -0.4727,  0.2227, -0.4883],\n",
       "          ...,\n",
       "          [-0.8711, -0.8867, -0.8867,  ..., -0.9258, -0.9180, -0.9102],\n",
       "          [-0.8711, -0.8711, -0.8945,  ..., -0.9258, -0.9102, -0.9102],\n",
       "          [-0.8789, -0.8789, -0.8789,  ..., -0.9180, -0.9023, -0.8945]],\n",
       "\n",
       "         [[-0.8086, -0.7930, -0.7773,  ..., -0.1836, -0.2305, -0.5586],\n",
       "          [-0.8398, -0.8320, -0.8477,  ..., -0.6055, -0.0039, -0.5195],\n",
       "          [-0.8086, -0.8086, -0.8008,  ..., -0.4492,  0.2773, -0.4336],\n",
       "          ...,\n",
       "          [-0.7773, -0.7930, -0.7930,  ..., -0.8711, -0.8477, -0.8477],\n",
       "          [-0.7773, -0.7773, -0.8008,  ..., -0.8555, -0.8477, -0.8477],\n",
       "          [-0.7852, -0.7852, -0.7852,  ..., -0.8242, -0.8398, -0.8320]]]])"
      ]
     },
     "execution_count": 18,
     "metadata": {},
     "output_type": "execute_result"
    }
   ],
   "source": [
    "face1"
   ]
  },
  {
   "cell_type": "code",
   "execution_count": null,
   "metadata": {},
   "outputs": [],
   "source": []
  }
 ],
 "metadata": {
  "kernelspec": {
   "display_name": "venv",
   "language": "python",
   "name": "python3"
  },
  "language_info": {
   "codemirror_mode": {
    "name": "ipython",
    "version": 3
   },
   "file_extension": ".py",
   "mimetype": "text/x-python",
   "name": "python",
   "nbconvert_exporter": "python",
   "pygments_lexer": "ipython3",
   "version": "3.10.10"
  },
  "orig_nbformat": 4
 },
 "nbformat": 4,
 "nbformat_minor": 2
}
