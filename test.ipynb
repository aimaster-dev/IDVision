{
 "cells": [
  {
   "cell_type": "code",
   "execution_count": 6,
   "metadata": {},
   "outputs": [],
   "source": [
    "from face_verification import *\n",
    "from verification_models import VGGFace2, VGGFace\n",
    "\n",
    "device = torch.device('cuda' if torch.cuda.is_available() else 'cpu')\n",
    "\n",
    "detector_model = MTCNN(device = device)\n",
    "# face2 = VGGFace2.load_model(device = device)\n",
    "face1 = VGGFace.load_model(device = device)"
   ]
  },
  {
   "cell_type": "code",
   "execution_count": 7,
   "metadata": {},
   "outputs": [
    {
     "name": "stdout",
     "output_type": "stream",
     "text": [
      "0.12902300259042424\n",
      "0.015727821682303085\n",
      "0.12387654372477212\n"
     ]
    }
   ],
   "source": [
    "filename1 = \"images/trang2.jpg\"\n",
    "filename2 = \"images/trang.jpg\"\n",
    "filename3 = \"images/trang3.jpg\"\n",
    "\n",
    "\n",
    "image1 = get_image(filename1)\n",
    "image2 = get_image(filename2)\n",
    "image3 = get_image(filename3)\n",
    "\n",
    "results = verify(image1, image2, detector_model, face1)\n",
    "results = verify(image1, image3, detector_model, face1)\n",
    "results = verify(image3, image2, detector_model, face1)"
   ]
  },
  {
   "cell_type": "code",
   "execution_count": 8,
   "metadata": {},
   "outputs": [
    {
     "name": "stdout",
     "output_type": "stream",
     "text": [
      "0.4680858998206021\n",
      "1.3939603656722395\n",
      "1.4177509408681686\n"
     ]
    }
   ],
   "source": [
    "filename1 = \"images/thanh2.png\"\n",
    "filename2 = \"images/thanh4.jpg\"\n",
    "filename3 = \"images/thanh.jpg\"\n",
    "\n",
    "image1 = get_image(filename1)\n",
    "image2 = get_image(filename2)\n",
    "image3 = get_image(filename3)\n",
    "\n",
    "results = verify(image1, image2, detector_model, face1)\n",
    "results = verify(image1, image3, detector_model, face1)\n",
    "results = verify(image3, image2, detector_model, face1)\n",
    "\n"
   ]
  },
  {
   "cell_type": "code",
   "execution_count": 9,
   "metadata": {},
   "outputs": [
    {
     "name": "stdout",
     "output_type": "stream",
     "text": [
      "0.7096816332102145\n",
      "1.3387222991293857\n",
      "1.2140064186722217\n"
     ]
    }
   ],
   "source": [
    "filename1 = \"images/ngoc.jpg\"\n",
    "filename2 = \"images/ngoc2.jpg\"\n",
    "filename3 = \"images/ngoc5.jpg\"\n",
    "\n",
    "image2 = get_image(filename2)\n",
    "image1 = get_image(filename1)\n",
    "image3 = get_image(filename3)\n",
    "\n",
    "results = verify(image1, image2, detector_model, face1)\n",
    "results = verify(image1, image3, detector_model, face1)\n",
    "results = verify(image3, image2, detector_model, face1)"
   ]
  },
  {
   "cell_type": "code",
   "execution_count": 10,
   "metadata": {},
   "outputs": [
    {
     "name": "stdout",
     "output_type": "stream",
     "text": [
      "1.534907275009876\n",
      "1.5692471435991042\n",
      "1.5006831285678495\n"
     ]
    }
   ],
   "source": [
    "filename1 = \"images/thanh.jpg\"\n",
    "filename2 = \"images/ngoc.jpg\"\n",
    "filename3 = 'images/trang.jpg'\n",
    "\n",
    "image2 = get_image(filename2)\n",
    "image1 = get_image(filename1)\n",
    "image3 = get_image(filename3)\n",
    "\n",
    "results = verify(image1, image2, detector_model, face1)\n",
    "results = verify(image1, image3, detector_model, face1)\n",
    "results = verify(image3, image2, detector_model, face1)\n"
   ]
  },
  {
   "cell_type": "code",
   "execution_count": 11,
   "metadata": {},
   "outputs": [
    {
     "name": "stdout",
     "output_type": "stream",
     "text": [
      "1.0181227703311384\n",
      "0.3617857548766957\n",
      "1.1546667006122062\n"
     ]
    }
   ],
   "source": [
    "filename1 = \"images/putin1.jpg\"\n",
    "filename2 = \"images/putin2.jpg\"\n",
    "filename3 = 'images/putin3.jpg'\n",
    "\n",
    "image2 = get_image(filename2)\n",
    "image1 = get_image(filename1)\n",
    "image3 = get_image(filename3)\n",
    "\n",
    "results = verify(image1, image2, detector_model, face1)\n",
    "results = verify(image1, image3, detector_model, face1)\n",
    "results = verify(image3, image2, detector_model, face1)\n"
   ]
  },
  {
   "cell_type": "code",
   "execution_count": 12,
   "metadata": {},
   "outputs": [
    {
     "name": "stdout",
     "output_type": "stream",
     "text": [
      "0.9776043044041466\n",
      "1.4670376671060101\n",
      "1.5007155436923232\n"
     ]
    }
   ],
   "source": [
    "filename1 = \"images/trump1.jpg\"\n",
    "filename2 = \"images/trump2.jpg\"\n",
    "filename3 = 'images/putin3.jpg'\n",
    "\n",
    "image2 = get_image(filename2)\n",
    "image1 = get_image(filename1)\n",
    "image3 = get_image(filename3)\n",
    "\n",
    "results = verify(image1, image2, detector_model, face1)\n",
    "results = verify(image1, image3, detector_model, face1)\n",
    "results = verify(image3, image2, detector_model, face1)\n",
    "    "
   ]
  },
  {
   "cell_type": "code",
   "execution_count": 13,
   "metadata": {},
   "outputs": [
    {
     "name": "stdout",
     "output_type": "stream",
     "text": [
      "1.5299009404763633\n",
      "1.568291666454993\n",
      "1.56957899289431\n"
     ]
    }
   ],
   "source": [
    "filename1 = \"images/thanh4.jpg\"\n",
    "filename2 = \"images/ngoc.jpg\"\n",
    "filename3 = 'images/putin3.jpg'\n",
    "\n",
    "image2 = get_image(filename2)\n",
    "image1 = get_image(filename1)\n",
    "image3 = get_image(filename3)\n",
    "\n",
    "results = verify(image1, image2, detector_model, face1)\n",
    "results = verify(image1, image3, detector_model, face1)\n",
    "results = verify(image3, image2, detector_model, face1)\n",
    "    "
   ]
  },
  {
   "cell_type": "code",
   "execution_count": 14,
   "metadata": {},
   "outputs": [
    {
     "name": "stdout",
     "output_type": "stream",
     "text": [
      "0.8530106700261211\n",
      "1.0140813040565946\n",
      "1.0532287285992386\n"
     ]
    }
   ],
   "source": [
    "filename1 = \"images/cmnd.jpg\"\n",
    "filename2 = \"images/cuong2.jpg\"\n",
    "filename3 = 'images/cuong.jpg'\n",
    "\n",
    "image2 = get_image(filename2)\n",
    "image1 = get_image(filename1)\n",
    "image3 = get_image(filename3)\n",
    "\n",
    "results = verify(image1, image2, detector_model, face1)\n",
    "results = verify(image1, image3, detector_model, face1)\n",
    "results = verify(image3, image2, detector_model, face1)\n",
    "    "
   ]
  },
  {
   "cell_type": "code",
   "execution_count": null,
   "metadata": {},
   "outputs": [],
   "source": []
  },
  {
   "cell_type": "code",
   "execution_count": null,
   "metadata": {},
   "outputs": [],
   "source": []
  }
 ],
 "metadata": {
  "kernelspec": {
   "display_name": "venv",
   "language": "python",
   "name": "python3"
  },
  "language_info": {
   "codemirror_mode": {
    "name": "ipython",
    "version": 3
   },
   "file_extension": ".py",
   "mimetype": "text/x-python",
   "name": "python",
   "nbconvert_exporter": "python",
   "pygments_lexer": "ipython3",
   "version": "3.8.10"
  },
  "orig_nbformat": 4
 },
 "nbformat": 4,
 "nbformat_minor": 2
}
